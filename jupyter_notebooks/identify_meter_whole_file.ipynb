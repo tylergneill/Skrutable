{
 "cells": [
  {
   "cell_type": "code",
   "execution_count": 1,
   "metadata": {},
   "outputs": [],
   "source": [
    "from tqdm import tqdm # if needed, pip install\n",
    "from skrutable.meter_identification import MeterIdentifier\n",
    "from datetime import datetime, date"
   ]
  },
  {
   "cell_type": "code",
   "execution_count": 2,
   "metadata": {},
   "outputs": [],
   "source": [
    "input_fn = 'R_input_cleaned.txt'\n",
    "output_fn = input_fn[:input_fn.find('.')] + '_results' + input_fn[input_fn.find('.'):]"
   ]
  },
  {
   "cell_type": "code",
   "execution_count": 3,
   "metadata": {},
   "outputs": [],
   "source": [
    "with open('%s' % input_fn, 'r') as input_f:\n",
    "    input_data = input_f.read()\n",
    "verses = input_data.split('\\n')"
   ]
  },
  {
   "cell_type": "code",
   "execution_count": 4,
   "metadata": {},
   "outputs": [],
   "source": [
    "MI = MeterIdentifier()"
   ]
  },
  {
   "cell_type": "code",
   "execution_count": 5,
   "metadata": {},
   "outputs": [
    {
     "name": "stderr",
     "output_type": "stream",
     "text": [
      "100%|██████████| 19354/19354 [00:02<00:00, 7079.16it/s]\n"
     ]
    }
   ],
   "source": [
    "with open('%s' % output_fn, 'w') as output_f:\n",
    "\n",
    "    starting_time = datetime.now().time()\n",
    "    for v in tqdm(verses):\n",
    "        v_content, v_label = v[:v.find('// ')+3], v[v.find('// ')+3:]\n",
    "        if v_content.count(\";\") == 2:\n",
    "            resplit_option = 'none'\n",
    "        else:\n",
    "            resplit_option = 'resplit_lite'\n",
    "        result = MI.identify_meter( v_content, resplit_option='none', from_scheme='IAST')\n",
    "        output_f.write( v + '\\t' + result.meter_label + '\\n')\n",
    "\n",
    "    ending_time = datetime.now().time()\n",
    "    delta = datetime.combine(date.today(), ending_time) - datetime.combine(date.today(), starting_time)\n",
    "    duration_secs = delta.seconds + delta.microseconds / 1000000\n",
    "    output_f.write(\"samāptam: %fs\" % duration_secs)"
   ]
  }
 ],
 "metadata": {
  "kernelspec": {
   "display_name": "Python 3",
   "language": "python",
   "name": "python3"
  },
  "language_info": {
   "codemirror_mode": {
    "name": "ipython",
    "version": 3
   },
   "file_extension": ".py",
   "mimetype": "text/x-python",
   "name": "python",
   "nbconvert_exporter": "python",
   "pygments_lexer": "ipython3",
   "version": "3.8.5"
  }
 },
 "nbformat": 4,
 "nbformat_minor": 4
}
